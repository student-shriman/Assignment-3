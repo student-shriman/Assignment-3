{
 "cells": [
  {
   "cell_type": "code",
   "execution_count": 1,
   "metadata": {},
   "outputs": [],
   "source": [
    "             ##########    ############    Python Assignment - 4     #############    ###########"
   ]
  },
  {
   "cell_type": "markdown",
   "metadata": {},
   "source": [
    "#  Python Assignment - 3\n",
    "<img src='assignment-3.png'>"
   ]
  },
  {
   "cell_type": "raw",
   "metadata": {},
   "source": [
    "1.1    Write a Python Program to implement your own myreduce() function which works exactly like Python's built-in \n",
    "        function reduce() ."
   ]
  },
  {
   "cell_type": "code",
   "execution_count": 57,
   "metadata": {},
   "outputs": [
    {
     "name": "stdout",
     "output_type": "stream",
     "text": [
      "Sum of all element in list : 55\n",
      "Product of all elements in list : 3628800\n"
     ]
    }
   ],
   "source": [
    "#  Python code to create a my_reduce() function that works similar like as Python built-in reduce() function\n",
    "\n",
    "#  Defining my_reduce() function  \n",
    "def myreduce(test, list):\n",
    "    x = list[0]\n",
    "    \n",
    "    # implementing a for loop\n",
    "    for i in range(1, len(list)):\n",
    "        x = test(x, list[i])\n",
    "    \n",
    "    return x\n",
    "\n",
    "#  Driver code to test the my_reduce() function\n",
    "# Defining a compute_sum() function \n",
    "def compute_sum(x1, x2):\n",
    "    return x1 + x2\n",
    "\n",
    "# Defining a compute_product() function\n",
    "def compute_product(x1, x2):\n",
    "    return(x1 * x2)\n",
    "\n",
    "list = [1, 2, 3, 4, 5, 6, 7, 8, 9, 10]\n",
    "\n",
    "# Printing the sum and product computed by my_reduce() method\n",
    "print(\"Sum of all element in list :\", myreduce(compute_sum, list))\n",
    "print(\"Product of all elements in list :\", myreduce(compute_product, list))"
   ]
  },
  {
   "cell_type": "raw",
   "metadata": {},
   "source": [
    "1.2  Write a Python program to implement your own myfilter() function which works exactly like Python's built-in\n",
    "        function filter() ."
   ]
  },
  {
   "cell_type": "code",
   "execution_count": 58,
   "metadata": {},
   "outputs": [
    {
     "name": "stdout",
     "output_type": "stream",
     "text": [
      "[1, 3, 5, 7, 9]\n",
      "[2, 4, 6, 8, 10]\n"
     ]
    }
   ],
   "source": [
    "#   Python code to create a my_filter() function that will acts like as python built-in filter() function.\n",
    "\n",
    "# defining my_filter() function\n",
    "def my_filter(test, list):\n",
    "    list_1 = []\n",
    "    list_2 = []\n",
    "    \n",
    "    #  Implementing for loop\n",
    "    for i in list:\n",
    "        list_1.append(test(i))\n",
    "    \n",
    "    for i in range(0, len(list_1)):\n",
    "        \n",
    "        if list_1[i] == False:\n",
    "            continue\n",
    "        \n",
    "        else:\n",
    "            list_2.append(list_1[i])\n",
    "    \n",
    "    return list_2\n",
    "        \n",
    "# Driver code for testing my_filter() function\n",
    "\n",
    "# Filtering out the Odd numbers from a list\n",
    "def get_odd(i):\n",
    "    \n",
    "    if i%2==1:\n",
    "        return i\n",
    "    \n",
    "    else:\n",
    "        return False\n",
    "\n",
    "# # Filtering out the Even numbers from a list\n",
    "def get_even(i):\n",
    "    if i%2 == 0:\n",
    "        return i\n",
    "    else:\n",
    "        return False\n",
    "    \n",
    "#  Printing the filtered values\n",
    "print(my_filter(get_odd, [1, 2, 3, 4, 5, 6, 7, 8, 9, 10]))\n",
    "print(my_filter(get_even,[1, 2, 3, 4, 5, 6, 7, 8, 9, 10]))"
   ]
  },
  {
   "cell_type": "raw",
   "metadata": {},
   "source": [
    "2. Implement List comprehensions to produce the following lists.\n",
    "   \n",
    " 1. ['A', 'C', 'A', 'D', 'G', 'I', ’L’, ‘ D’]\n",
    "\n",
    " 2. ['x', 'xx', 'xxx', 'xxxx', 'y', 'yy', 'yyy', 'yyyy', 'z', 'zz', 'zzz', 'zzzz']\n",
    "\n",
    " 3. ['x', 'y', 'z', 'xx', 'yy', 'zz', 'xxx', 'yyy', 'zzz', 'xxxx', 'yyyy', 'zzzz']\n",
    "\n",
    " 4. [[2], [3], [4], [3], [4], [5], [4], [5], [6]]\n",
    "    \n",
    " 5. [[2, 3, 4, 5], [3, 4, 5, 6], [4, 5, 6, 7], [5, 6, 7, 8]]\n",
    "\n",
    " 6. [(1, 1), (2, 1), (3, 1), (1, 2), (2, 2), (3, 2), (1, 3), (2, 3), (3, 3)]\n",
    " \n",
    "\n",
    " =>  Note ->  There is a silly mistake in assignment. In Question - 2, List - comprehension code, something error is in \n",
    "                 3rd List .  There are 2 separate lists and a comma ',' is lacking between 2 lists. \n",
    "                   I have break the 3rd list in 2 individual Lists and then  write code for them."
   ]
  },
  {
   "cell_type": "code",
   "execution_count": 59,
   "metadata": {},
   "outputs": [
    {
     "name": "stdout",
     "output_type": "stream",
     "text": [
      "['A', 'C', 'A', 'D', 'G', 'I', 'L', 'D'] \n",
      "\n",
      "['x', 'xx', 'xxx', 'xxxx', 'y', 'yy', 'yyy', 'yyyy', 'z', 'zz', 'zzz', 'zzzz'] \n",
      "\n",
      "['x', 'y', 'z', 'xx', 'yy', 'zz', 'xxx', 'yyy', 'zzz', 'xxxx', 'yyyy', 'zzzz'] \n",
      "\n",
      "[[2, 3, 4, 5], [3, 4, 5, 6], [4, 5, 6, 7], [5, 6, 7, 8]] \n",
      "\n",
      "[[2, 3, 4, 5], [3, 4, 5, 6], [4, 5, 6, 7], [5, 6, 7, 8]] \n",
      "\n",
      "[(1, 1), (2, 1), (3, 1), (1, 2), (2, 2), (3, 2), (1, 3), (2, 3), (3, 3)]\n"
     ]
    }
   ],
   "source": [
    "       ###########     Python program to produce the following lists using list comprehensions...    #############\n",
    "    \n",
    "#  Code for 1st List  ->   ['A', 'C', 'A', 'D', 'G', 'I', ’L’, ‘ D’]\n",
    "\n",
    "List_1 = [i for i in 'ACADGILD']\n",
    "print(List_1, \"\\n\")\n",
    "\n",
    "\n",
    "#  Code for 2nd list  ->  ['x', 'xx', 'xxx', 'xxxx', 'y', 'yy', 'yyy', 'yyyy', 'z', 'zz', 'zzz', 'zzzz']  \n",
    "\n",
    "List_2 = [i * j for j in ['x', 'y', 'z'] for i in range(1, 5)]\n",
    "print(List_2, \"\\n\")\n",
    "\n",
    "#  Code for 3rd List  ->   ['x', 'y', 'z', 'xx', 'yy', 'zz', 'xxx', 'yyy', 'zzz', 'xxxx', 'yyyy', 'zzzz']\n",
    "\n",
    "List_3 = [i * j for j in range(1, 5) for i in ['x', 'y', 'z']]\n",
    "print(List_3,\"\\n\")\n",
    "\n",
    "\n",
    "#  Code for 4th list -> [[2], [3], [4], [3], [4], [5], [4], [5], [6]] \n",
    "\n",
    "List_4 = [[i + j for j in [0, 1, 2, 3]] for i in range(2, 6)]\n",
    "print(List_4, \"\\n\")\n",
    "\n",
    "\n",
    "#  Code for 5th list  ->  [[2, 3, 4, 5], [3, 4, 5, 6], [4, 5, 6, 7], [5, 6, 7, 8]]\n",
    "\n",
    "List_5 = [[i + j for j in [0, 1, 2, 3]] for i in range(2, 6)]\n",
    "print (List_5, \"\\n\")\n",
    "\n",
    "\n",
    "#  Code for 5th List  ->   [(1, 1), (2, 1), (3, 1), (1, 2), (2, 2), (3, 2), (1, 3), (2, 3), (3, 3)]\n",
    "\n",
    "List_6 = [(i,j) for j in [1, 2, 3] for i in [1, 2, 3]]\n",
    "print(List_6)"
   ]
  }
 ],
 "metadata": {
  "kernelspec": {
   "display_name": "Python 3",
   "language": "python",
   "name": "python3"
  },
  "language_info": {
   "codemirror_mode": {
    "name": "ipython",
    "version": 3
   },
   "file_extension": ".py",
   "mimetype": "text/x-python",
   "name": "python",
   "nbconvert_exporter": "python",
   "pygments_lexer": "ipython3",
   "version": "3.7.6"
  }
 },
 "nbformat": 4,
 "nbformat_minor": 4
}
